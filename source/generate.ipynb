{
 "cells": [
  {
   "cell_type": "code",
   "execution_count": 1,
   "id": "wound-hammer",
   "metadata": {},
   "outputs": [],
   "source": [
    "import os\n",
    "import pickle\n",
    "\n",
    "import numpy as np\n",
    "import soundfile as sf\n",
    "\n",
    "from sound_generator import SoundGenerator\n",
    "from vae import VAE\n",
    "# from train import SPECTROGRAMS_PATH\n",
    "%config Completer.use_jedi = False\n",
    "\n",
    "HOP_LENGTH = 256\n",
    "SAVE_DIR_ORIGINAL = \"../output/samples/original/\"\n",
    "SAVE_DIR_GENERATED = \"../output/samples/generated/\"\n",
    "SPECTROGRAMS_PATH = \"C:\\\\Users\\\\pbeata\\\\Desktop\\\\Data_Science\\\\Audio\\\\sound-generation\\\\datasets\\\\fsdd\\\\spectrograms\\\\\"\n",
    "MIN_MAX_VALUES_PATH = \"C:\\\\Users\\\\pbeata\\\\Desktop\\\\Data_Science\\\\Audio\\\\sound-generation\\\\datasets\\\\fsdd\\\\min_max_values.pkl\"\n",
    "\n",
    "\n",
    "def load_fsdd(spectrograms_path):\n",
    "    x_train = []\n",
    "    file_paths = []\n",
    "    for root, _, file_names in os.walk(spectrograms_path):\n",
    "        for file_name in file_names:\n",
    "            file_path = os.path.join(root, file_name)\n",
    "            spectrogram = np.load(file_path) # (n_bins, n_frames, 1)\n",
    "            x_train.append(spectrogram)\n",
    "            file_paths.append(file_path)\n",
    "    x_train = np.array(x_train)\n",
    "    x_train = x_train[..., np.newaxis] # -> (3000, 256, 64, 1)\n",
    "    return x_train, file_paths\n",
    "\n",
    "\n",
    "def select_spectrograms(spectrograms,\n",
    "                        file_paths,\n",
    "                        min_max_values,\n",
    "                        num_spectrograms=2):\n",
    "    sampled_indexes = np.random.choice(range(len(spectrograms)), num_spectrograms)\n",
    "    sampled_spectrogrmas = spectrograms[sampled_indexes]\n",
    "    file_paths = [file_paths[index] for index in sampled_indexes]\n",
    "    sampled_min_max_values = [min_max_values[file_path] for file_path in\n",
    "                           file_paths]\n",
    "    print(file_paths)\n",
    "    print(sampled_min_max_values)\n",
    "    return sampled_spectrogrmas, sampled_min_max_values\n",
    "\n",
    "\n",
    "def save_signals(signals, save_dir, sample_rate=22050):\n",
    "    for i, signal in enumerate(signals):\n",
    "        save_path = os.path.join(save_dir, str(i) + \".wav\")\n",
    "        sf.write(save_path, signal, sample_rate)"
   ]
  },
  {
   "cell_type": "code",
   "execution_count": 2,
   "id": "incorporate-address",
   "metadata": {},
   "outputs": [
    {
     "name": "stdout",
     "output_type": "stream",
     "text": [
      "['C:\\\\Users\\\\pbeata\\\\Desktop\\\\Data_Science\\\\Audio\\\\sound-generation\\\\datasets\\\\fsdd\\\\spectrograms\\\\3_lucas_27.wav.npy', 'C:\\\\Users\\\\pbeata\\\\Desktop\\\\Data_Science\\\\Audio\\\\sound-generation\\\\datasets\\\\fsdd\\\\spectrograms\\\\8_yweweler_42.wav.npy', 'C:\\\\Users\\\\pbeata\\\\Desktop\\\\Data_Science\\\\Audio\\\\sound-generation\\\\datasets\\\\fsdd\\\\spectrograms\\\\1_nicolas_22.wav.npy', 'C:\\\\Users\\\\pbeata\\\\Desktop\\\\Data_Science\\\\Audio\\\\sound-generation\\\\datasets\\\\fsdd\\\\spectrograms\\\\0_theo_49.wav.npy', 'C:\\\\Users\\\\pbeata\\\\Desktop\\\\Data_Science\\\\Audio\\\\sound-generation\\\\datasets\\\\fsdd\\\\spectrograms\\\\5_theo_3.wav.npy']\n",
      "[{'min': -56.098103, 'max': 23.901897}, {'min': -71.430916, 'max': 8.569086}, {'min': -63.202766, 'max': 16.797235}, {'min': -77.15126, 'max': 2.848741}, {'min': -80.739426, 'max': -0.73942804}]\n"
     ]
    },
    {
     "name": "stderr",
     "output_type": "stream",
     "text": [
      "C:\\Users\\pbeata\\anaconda3\\envs\\py3-TF2.0\\lib\\site-packages\\tensorflow\\python\\keras\\engine\\training.py:2325: UserWarning: `Model.state_updates` will be removed in a future version. This property should not be used in TensorFlow 2.0, as `updates` are applied automatically.\n",
      "  warnings.warn('`Model.state_updates` will be removed in a future version. '\n"
     ]
    }
   ],
   "source": [
    "# if __name__ == \"__main__\":\n",
    "if (1):\n",
    "    # initialize sound generator\n",
    "    vae = VAE.load(\"../trained_models/vae_model_fsdd\")\n",
    "    sound_generator = SoundGenerator(vae, HOP_LENGTH)\n",
    "    \n",
    "    # load spectrograms + min max values\n",
    "    with open(MIN_MAX_VALUES_PATH, \"rb\") as f:\n",
    "        min_max_values = pickle.load(f)\n",
    "    specs, file_paths = load_fsdd(SPECTROGRAMS_PATH)\n",
    "    \n",
    "    # sample spectrograms + min max values\n",
    "    sampled_specs, sampled_min_max_values = select_spectrograms(specs,\n",
    "                                                                file_paths,\n",
    "                                                                min_max_values,\n",
    "                                                                5)\n",
    "    \n",
    "    # generate audio for sampled spectrograms\n",
    "    signals, _ = sound_generator.generate(sampled_specs, \n",
    "                                          sampled_min_max_values)\n",
    "    \n",
    "    # convert spectrogram samples to audio\n",
    "    original_signals = sound_generator.convert_spectrograms_to_audio(sampled_specs,\n",
    "                                                                     sampled_min_max_values)\n",
    "    \n",
    "    # save audio samples\n",
    "    save_signals(signals, SAVE_DIR_GENERATED)\n",
    "    save_signals(original_signals, SAVE_DIR_ORIGINAL)"
   ]
  }
 ],
 "metadata": {
  "kernelspec": {
   "display_name": "Python 3",
   "language": "python",
   "name": "python3"
  },
  "language_info": {
   "codemirror_mode": {
    "name": "ipython",
    "version": 3
   },
   "file_extension": ".py",
   "mimetype": "text/x-python",
   "name": "python",
   "nbconvert_exporter": "python",
   "pygments_lexer": "ipython3",
   "version": "3.8.8"
  }
 },
 "nbformat": 4,
 "nbformat_minor": 5
}
